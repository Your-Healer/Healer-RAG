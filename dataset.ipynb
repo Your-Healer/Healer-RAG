{
 "cells": [
  {
   "cell_type": "code",
   "execution_count": 2,
   "id": "c42c4328",
   "metadata": {},
   "outputs": [],
   "source": [
    "import getpass\n",
    "import os\n",
    "import pandas as pd\n",
    "from langchain_openai import OpenAIEmbeddings"
   ]
  },
  {
   "cell_type": "code",
   "execution_count": 3,
   "id": "e1f3c8ad",
   "metadata": {},
   "outputs": [],
   "source": [
    "# OPENAI_API_KEY = os.environ[\"OPENAI_API_KEY\"]\n",
    "\n",
    "# embeddings_model = OpenAIEmbeddings(model=\"text-embedding-3-large\")"
   ]
  },
  {
   "cell_type": "code",
   "execution_count": 10,
   "id": "0cdd82db",
   "metadata": {},
   "outputs": [],
   "source": [
    "df = pd.read_csv(\"dataset/diseases_symptoms.tsv\", sep=\"\\t\")"
   ]
  },
  {
   "cell_type": "code",
   "execution_count": 11,
   "id": "edfcd6ea",
   "metadata": {},
   "outputs": [
    {
     "data": {
      "text/html": [
       "<div>\n",
       "<style scoped>\n",
       "    .dataframe tbody tr th:only-of-type {\n",
       "        vertical-align: middle;\n",
       "    }\n",
       "\n",
       "    .dataframe tbody tr th {\n",
       "        vertical-align: top;\n",
       "    }\n",
       "\n",
       "    .dataframe thead th {\n",
       "        text-align: right;\n",
       "    }\n",
       "</style>\n",
       "<table border=\"1\" class=\"dataframe\">\n",
       "  <thead>\n",
       "    <tr style=\"text-align: right;\">\n",
       "      <th></th>\n",
       "      <th>disease</th>\n",
       "      <th>symptoms</th>\n",
       "    </tr>\n",
       "  </thead>\n",
       "  <tbody>\n",
       "    <tr>\n",
       "      <th>0</th>\n",
       "      <td>Postoperative Complications</td>\n",
       "      <td>Abdomen, Abdominal Pain, Abnormal, Acquired, A...</td>\n",
       "    </tr>\n",
       "    <tr>\n",
       "      <th>1</th>\n",
       "      <td>Brain Diseases</td>\n",
       "      <td>Abdomen, Abdominal Pain, Abnormal, Acquired, A...</td>\n",
       "    </tr>\n",
       "    <tr>\n",
       "      <th>2</th>\n",
       "      <td>Cerebral Infarction</td>\n",
       "      <td>Abdominal Pain, Abnormal, Acquired, Acute Coro...</td>\n",
       "    </tr>\n",
       "    <tr>\n",
       "      <th>3</th>\n",
       "      <td>Pain</td>\n",
       "      <td>Abdomen, Abdominal Pain, Abnormal, Acute, Acut...</td>\n",
       "    </tr>\n",
       "    <tr>\n",
       "      <th>4</th>\n",
       "      <td>Epilepsy</td>\n",
       "      <td>Abdomen, Abdominal Pain, Abnormal, Acute, Agno...</td>\n",
       "    </tr>\n",
       "  </tbody>\n",
       "</table>\n",
       "</div>"
      ],
      "text/plain": [
       "                       disease  \\\n",
       "0  Postoperative Complications   \n",
       "1               Brain Diseases   \n",
       "2          Cerebral Infarction   \n",
       "3                         Pain   \n",
       "4                     Epilepsy   \n",
       "\n",
       "                                            symptoms  \n",
       "0  Abdomen, Abdominal Pain, Abnormal, Acquired, A...  \n",
       "1  Abdomen, Abdominal Pain, Abnormal, Acquired, A...  \n",
       "2  Abdominal Pain, Abnormal, Acquired, Acute Coro...  \n",
       "3  Abdomen, Abdominal Pain, Abnormal, Acute, Acut...  \n",
       "4  Abdomen, Abdominal Pain, Abnormal, Acute, Agno...  "
      ]
     },
     "execution_count": 11,
     "metadata": {},
     "output_type": "execute_result"
    }
   ],
   "source": [
    "df.head()"
   ]
  },
  {
   "cell_type": "code",
   "execution_count": null,
   "id": "9397a26c",
   "metadata": {},
   "outputs": [],
   "source": [
    "symptoms_each_disease = df[\"symptoms\"].tolist()"
   ]
  },
  {
   "cell_type": "code",
   "execution_count": null,
   "id": "26420135",
   "metadata": {},
   "outputs": [],
   "source": [
    "import re\n",
    "\n",
    "def clean_symptoms(symptoms_list):\n",
    "  cleaned_symptoms = []\n",
    "  for symptoms in symptoms_list:\n",
    "      if isinstance(symptoms, list):\n",
    "          symptoms = ','.join(symptoms)\n",
    "      cleaned = re.sub(r',+', ',', symptoms).strip(', ').strip()\n",
    "      if (len(cleaned) == 0):\n",
    "        print(\"true\")\n",
    "      cleaned_symptoms.append(cleaned)\n",
    "\n",
    "  return cleaned_symptoms\n",
    "\n",
    "def seperate_symptoms(symptoms_each_disease):\n",
    "  return [symptoms.split(', ') for symptoms in symptoms_each_disease]\n",
    "\n",
    "cleaned_symptoms_each_disease = clean_symptoms(symptoms_each_disease)\n",
    "\n",
    "seperated_symptoms_each_disease = seperate_symptoms(cleaned_symptoms_each_disease)\n",
    "\n",
    "\n",
    "seperated_symptoms_each_disease[0]"
   ]
  },
  {
   "cell_type": "markdown",
   "id": "249ded59",
   "metadata": {},
   "source": [
    "## Export Disease Symptoms to TSV\n"
   ]
  },
  {
   "cell_type": "code",
   "execution_count": null,
   "id": "35e05970",
   "metadata": {},
   "outputs": [
    {
     "name": "stdout",
     "output_type": "stream",
     "text": [
      "Number of diseases: 4219\n",
      "Number of symptom lists: 4219\n"
     ]
    }
   ],
   "source": [
    "# Extract disease names from the dataframe\n",
    "disease_names = df['disease'].tolist() if 'disease' in df.columns else ['Disease_' + str(i) for i in range(len(seperated_symptoms_each_disease))]\n",
    "\n",
    "# Verify we have the same number of diseases and symptom lists\n",
    "print(f\"Number of diseases: {len(disease_names)}\")\n",
    "print(f\"Number of symptom lists: {len(seperated_symptoms_each_disease)}\")"
   ]
  },
  {
   "cell_type": "code",
   "execution_count": null,
   "id": "0e7635ea",
   "metadata": {},
   "outputs": [
    {
     "data": {
      "text/html": [
       "<div>\n",
       "<style scoped>\n",
       "    .dataframe tbody tr th:only-of-type {\n",
       "        vertical-align: middle;\n",
       "    }\n",
       "\n",
       "    .dataframe tbody tr th {\n",
       "        vertical-align: top;\n",
       "    }\n",
       "\n",
       "    .dataframe thead th {\n",
       "        text-align: right;\n",
       "    }\n",
       "</style>\n",
       "<table border=\"1\" class=\"dataframe\">\n",
       "  <thead>\n",
       "    <tr style=\"text-align: right;\">\n",
       "      <th></th>\n",
       "      <th>disease</th>\n",
       "      <th>symptoms</th>\n",
       "    </tr>\n",
       "  </thead>\n",
       "  <tbody>\n",
       "    <tr>\n",
       "      <th>0</th>\n",
       "      <td>Postoperative Complications</td>\n",
       "      <td>[Abdomen, Abdominal Pain, Abnormal, Acquired, ...</td>\n",
       "    </tr>\n",
       "    <tr>\n",
       "      <th>1</th>\n",
       "      <td>Brain Diseases</td>\n",
       "      <td>[Abdomen, Abdominal Pain, Abnormal, Acquired, ...</td>\n",
       "    </tr>\n",
       "    <tr>\n",
       "      <th>2</th>\n",
       "      <td>Cerebral Infarction</td>\n",
       "      <td>[Abdominal Pain, Abnormal, Acquired, Acute Cor...</td>\n",
       "    </tr>\n",
       "    <tr>\n",
       "      <th>3</th>\n",
       "      <td>Pain</td>\n",
       "      <td>[Abdomen, Abdominal Pain, Abnormal, Acute, Acu...</td>\n",
       "    </tr>\n",
       "    <tr>\n",
       "      <th>4</th>\n",
       "      <td>Epilepsy</td>\n",
       "      <td>[Abdomen, Abdominal Pain, Abnormal, Acute, Agn...</td>\n",
       "    </tr>\n",
       "  </tbody>\n",
       "</table>\n",
       "</div>"
      ],
      "text/plain": [
       "                       disease  \\\n",
       "0  Postoperative Complications   \n",
       "1               Brain Diseases   \n",
       "2          Cerebral Infarction   \n",
       "3                         Pain   \n",
       "4                     Epilepsy   \n",
       "\n",
       "                                            symptoms  \n",
       "0  [Abdomen, Abdominal Pain, Abnormal, Acquired, ...  \n",
       "1  [Abdomen, Abdominal Pain, Abnormal, Acquired, ...  \n",
       "2  [Abdominal Pain, Abnormal, Acquired, Acute Cor...  \n",
       "3  [Abdomen, Abdominal Pain, Abnormal, Acute, Acu...  \n",
       "4  [Abdomen, Abdominal Pain, Abnormal, Acute, Agn...  "
      ]
     },
     "metadata": {},
     "output_type": "display_data"
    }
   ],
   "source": [
    "# Create a new dataframe with disease names and their symptoms\n",
    "export_data = []\n",
    "\n",
    "for i, (disease, symptoms) in enumerate(zip(disease_names, seperated_symptoms_each_disease)):\n",
    "    # Clean up the symptoms (remove any leading/trailing spaces)\n",
    "    cleaned_symptoms = [symptom.strip() for symptom in symptoms]\n",
    "    export_data.append({\n",
    "        'disease': disease,\n",
    "        'symptoms': cleaned_symptoms\n",
    "    })\n",
    "\n",
    "# Convert to dataframe\n",
    "export_df = pd.DataFrame(export_data)\n",
    "export_df.head()"
   ]
  },
  {
   "cell_type": "code",
   "execution_count": null,
   "id": "87269efe",
   "metadata": {},
   "outputs": [
    {
     "name": "stdout",
     "output_type": "stream",
     "text": [
      "Data successfully exported to dataset/diseases_symptoms_processed.tsv\n"
     ]
    }
   ],
   "source": [
    "# Function to convert symptom list to TSV-friendly string\n",
    "def format_symptoms(symptoms_list):\n",
    "    return '|'.join(symptoms_list)\n",
    "\n",
    "# Apply formatting to symptoms column\n",
    "export_df['symptoms_formatted'] = export_df['symptoms'].apply(format_symptoms)\n",
    "\n",
    "# Create final export dataframe\n",
    "final_export_df = pd.DataFrame({\n",
    "    'disease': export_df['disease'],\n",
    "    'symptoms': export_df['symptoms_formatted']\n",
    "})\n",
    "\n",
    "# Export to TSV file\n",
    "output_path = 'dataset/diseases_symptoms_processed.tsv'\n",
    "final_export_df.to_csv(output_path, sep='\\t', index=False)\n",
    "\n",
    "print(f\"Data successfully exported to {output_path}\")"
   ]
  },
  {
   "cell_type": "code",
   "execution_count": null,
   "id": "f3f76fed",
   "metadata": {},
   "outputs": [
    {
     "data": {
      "text/html": [
       "<div>\n",
       "<style scoped>\n",
       "    .dataframe tbody tr th:only-of-type {\n",
       "        vertical-align: middle;\n",
       "    }\n",
       "\n",
       "    .dataframe tbody tr th {\n",
       "        vertical-align: top;\n",
       "    }\n",
       "\n",
       "    .dataframe thead th {\n",
       "        text-align: right;\n",
       "    }\n",
       "</style>\n",
       "<table border=\"1\" class=\"dataframe\">\n",
       "  <thead>\n",
       "    <tr style=\"text-align: right;\">\n",
       "      <th></th>\n",
       "      <th>disease</th>\n",
       "      <th>symptoms</th>\n",
       "    </tr>\n",
       "  </thead>\n",
       "  <tbody>\n",
       "    <tr>\n",
       "      <th>0</th>\n",
       "      <td>Postoperative Complications</td>\n",
       "      <td>Abdomen|Abdominal Pain|Abnormal|Acquired|Acute...</td>\n",
       "    </tr>\n",
       "    <tr>\n",
       "      <th>1</th>\n",
       "      <td>Brain Diseases</td>\n",
       "      <td>Abdomen|Abdominal Pain|Abnormal|Acquired|Acute...</td>\n",
       "    </tr>\n",
       "    <tr>\n",
       "      <th>2</th>\n",
       "      <td>Cerebral Infarction</td>\n",
       "      <td>Abdominal Pain|Abnormal|Acquired|Acute Coronar...</td>\n",
       "    </tr>\n",
       "    <tr>\n",
       "      <th>3</th>\n",
       "      <td>Pain</td>\n",
       "      <td>Abdomen|Abdominal Pain|Abnormal|Acute|Acute Co...</td>\n",
       "    </tr>\n",
       "    <tr>\n",
       "      <th>4</th>\n",
       "      <td>Epilepsy</td>\n",
       "      <td>Abdomen|Abdominal Pain|Abnormal|Acute|Agnosia|...</td>\n",
       "    </tr>\n",
       "  </tbody>\n",
       "</table>\n",
       "</div>"
      ],
      "text/plain": [
       "                       disease  \\\n",
       "0  Postoperative Complications   \n",
       "1               Brain Diseases   \n",
       "2          Cerebral Infarction   \n",
       "3                         Pain   \n",
       "4                     Epilepsy   \n",
       "\n",
       "                                            symptoms  \n",
       "0  Abdomen|Abdominal Pain|Abnormal|Acquired|Acute...  \n",
       "1  Abdomen|Abdominal Pain|Abnormal|Acquired|Acute...  \n",
       "2  Abdominal Pain|Abnormal|Acquired|Acute Coronar...  \n",
       "3  Abdomen|Abdominal Pain|Abnormal|Acute|Acute Co...  \n",
       "4  Abdomen|Abdominal Pain|Abnormal|Acute|Agnosia|...  "
      ]
     },
     "metadata": {},
     "output_type": "display_data"
    }
   ],
   "source": [
    "# Verify the exported data\n",
    "pd.read_csv(output_path, sep='\\t').head()"
   ]
  }
 ],
 "metadata": {
  "kernelspec": {
   "display_name": ".venv",
   "language": "python",
   "name": "python3"
  },
  "language_info": {
   "codemirror_mode": {
    "name": "ipython",
    "version": 3
   },
   "file_extension": ".py",
   "mimetype": "text/x-python",
   "name": "python",
   "nbconvert_exporter": "python",
   "pygments_lexer": "ipython3",
   "version": "3.10.9"
  }
 },
 "nbformat": 4,
 "nbformat_minor": 5
}
